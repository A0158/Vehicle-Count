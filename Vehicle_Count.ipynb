{
  "nbformat": 4,
  "nbformat_minor": 0,
  "metadata": {
    "colab": {
      "provenance": [],
      "authorship_tag": "ABX9TyN6VXMarrrni/31gGaM5kpq",
      "include_colab_link": true
    },
    "kernelspec": {
      "name": "python3",
      "display_name": "Python 3"
    },
    "language_info": {
      "name": "python"
    }
  },
  "cells": [
    {
      "cell_type": "markdown",
      "metadata": {
        "id": "view-in-github",
        "colab_type": "text"
      },
      "source": [
        "<a href=\"https://colab.research.google.com/github/A0158/Vehicle-Count/blob/main/Vehicle_Count.ipynb\" target=\"_parent\"><img src=\"https://colab.research.google.com/assets/colab-badge.svg\" alt=\"Open In Colab\"/></a>"
      ]
    },
    {
      "cell_type": "code",
      "execution_count": null,
      "metadata": {
        "id": "0r0tQSr7aSuI"
      },
      "outputs": [],
      "source": [
        "import cv2\n",
        "import numpy as np\n",
        "from time import sleep\n",
        "\n",
        "width_min=80 #minimum width  of rectangle\n",
        "height_min=80 #minimum height of retangle\n",
        "\n",
        "offset=6 #Offset\n",
        "\n",
        "y_cord=450 #y coordinate of line\n",
        "\n",
        "frames= 10000 #frames per second\n",
        "\n",
        "data = []\n",
        "vehicle= 0\n",
        "\n",
        "\n",
        "def box(x, y, w, h):\n",
        "    x1 = int(w / 2)\n",
        "    y1 = int(h / 2)\n",
        "    cx = x + x1\n",
        "    cy = y + y1\n",
        "    return cx,cy\n",
        "\n",
        "cap = cv2.VideoCapture('20210325113656.mp4')\n",
        "# For day video\n",
        "subtract = cv2.createBackgroundSubtractorKNN()\n",
        "# For night video\n",
        "subtract = cv2.bgsegm.createBackgroundSubtractorGMG()\n",
        "while True:\n",
        "    ret , frame1 = cap.read()\n",
        "    temp = float(1/frames)\n",
        "    sleep(temp) \n",
        "    grey = cv2.cvtColor(frame1,cv2.COLOR_BGR2GRAY)\n",
        "    blur = cv2.GaussianBlur(grey,(3,3),5)\n",
        "    img_sub = subtract.apply(blur)\n",
        "    dilate = cv2.dilate(img_sub,np.ones((5,5)))\n",
        "\n",
        "    kernel = cv2.getStructuringElement(cv2.MORPH_ELLIPSE, (5, 5))\n",
        "    dilatedata = cv2.morphologyEx (dilate, cv2. MORPH_CLOSE , kernel)\n",
        "    dilatedata = cv2.morphologyEx (dilatedata, cv2. MORPH_CLOSE , kernel)\n",
        "    contour,h=cv2.findContours(dilatedata,cv2.RETR_TREE,cv2.CHAIN_APPROX_SIMPLE)\n",
        "    \n",
        "    cv2.line(frame1, (600, y_cord), (1500, y_cord), (255,127,0), 3) \n",
        "    for(i,c) in enumerate(contour):\n",
        "        (x,y,w,h) = cv2.boundingRect(c)\n",
        "        validate_contour = (w >= width_min) and (h >= height_min)\n",
        "        if not validate_contour:\n",
        "            continue\n",
        "\n",
        "        #cv2.rectangle(frame1,(x,y),(x+w,y+h),(0,255,0),2)        \n",
        "        centre = box(x, y, w, h)\n",
        "        data.append(centre)\n",
        "        cv2.circle(frame1, centre, 4, (0, 0,255), -1)\n",
        "\n",
        "        for (x,y) in data:\n",
        "            if y<(y_cord+offset) and y>(y_cord-offset):\n",
        "                vehicle+=1\n",
        "                cv2.line(frame1, (25, y_cord), (1500, y_cord), (0,127,255), 3)  \n",
        "                data.remove((x,y))\n",
        "                print(\"car is detected : \"+str(vehicle))        \n",
        "       \n",
        "    cv2.putText(frame1, \"VEHICLE COUNT : \"+str(vehicle), (450, 70), cv2.FONT_HERSHEY_SIMPLEX, 2, (0, 0, 255),5)\n",
        "    cv2.imshow(\"Video Original\" , frame1)\n",
        "    cv2.imshow(\"Detectar\",dilatedata)\n",
        "\n",
        "    if cv2.waitKey(1) == 27:\n",
        "        break\n",
        "    \n",
        "cv2.destroyAllWindows()\n",
        "cap.release()"
      ]
    }
  ]
}